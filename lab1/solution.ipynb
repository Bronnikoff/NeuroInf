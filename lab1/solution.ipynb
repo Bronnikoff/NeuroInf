{
 "cells": [
  {
   "cell_type": "markdown",
   "metadata": {},
   "source": [
    "##### Бронников Максим Андреевич\n",
    "##### М8О-407Б-17"
   ]
  },
  {
   "cell_type": "markdown",
   "metadata": {},
   "source": [
    "<h1><center> Перцептрон Розенблата </center></h1>"
   ]
  },
  {
   "cell_type": "markdown",
   "metadata": {},
   "source": [
    "<center><h2> Вариант №4 </h2></center>"
   ]
  },
  {
   "cell_type": "markdown",
   "metadata": {},
   "source": [
    "Структура *Перцептрона Розенблата*. Мы будем строить слой из таких перцептронов в зависимости от того, на сколько классов надо разбить данные. По условию - выход перцептрона $net$, поэтому из схемы ниже нужно изключить пороговую функцию активации."
   ]
  },
  {
   "cell_type": "markdown",
   "metadata": {},
   "source": [
    "<img src=\"https://www.machinelearningmastery.ru/img/0-675619-991897.png\">"
   ]
  },
  {
   "cell_type": "markdown",
   "metadata": {},
   "source": [
    "### Алгоритм обучения"
   ]
  },
  {
   "cell_type": "markdown",
   "metadata": {},
   "source": [
    "Если дана $(X, Y)$ - обучающая выборка, то задача - найти веса и смещение $(W, b)$ для каждого парцептрона из слоя. \n",
    "Алгоритм работает за заданное $N$ количество шагов, или пока веса не перестанут меняться.\n",
    "\n",
    "1. Инициализация весов и смещения случайным образом. Номер шага $k = 0$.\n",
    "\n",
    "\n",
    "2. Пока веса изменяются и $k < N$:\n",
    "    - Для каждого поданного на вход значения $p_i \\in X, \\; \\forall i: 0 \\leq i < |X|$:\n",
    "    \n",
    "        * Если: $y_i (p_i \\cdot W + b) < 0$, cчитаем ошибку $e = y_i - (p_i \\cdot W + b)$ меняем веса:\n",
    "        \n",
    "        $$W = W + e*p_i$$\n",
    "        $$b = b +e$$\n",
    "        \n",
    "        \n",
    "3. Полученные  веса и смещения - результат обучения."
   ]
  },
  {
   "cell_type": "markdown",
   "metadata": {},
   "source": [
    "### Реализация сети"
   ]
  },
  {
   "cell_type": "markdown",
   "metadata": {},
   "source": [
    "При обучении добавим к тренировочным данным еденичный столбец для смещения."
   ]
  },
  {
   "cell_type": "code",
   "execution_count": 1,
   "metadata": {},
   "outputs": [],
   "source": [
    "import random\n",
    "import numpy as np\n",
    "import matplotlib.pyplot as plt\n",
    "from tqdm import tqdm"
   ]
  },
  {
   "cell_type": "code",
   "execution_count": 2,
   "metadata": {},
   "outputs": [],
   "source": [
    "class RosenblattLayer:\n",
    "    def __init__(self, steps = 50, early_stop = False):\n",
    "        self.steps = steps\n",
    "        self.w = None\n",
    "        self.negative_is_zero = False\n",
    "        self.early_stop = early_stop\n",
    "    \n",
    "    def fit(self, X, y):\n",
    "        # add column for bias and transpose data for comphort operations:\n",
    "        X_t = np.append(X, np.ones((1, X.shape[1])), axis = 0).T\n",
    "        y_t = np.array(y.T)\n",
    "        \n",
    "        if (y_t == 0).sum():\n",
    "            self.negative_is_zero = True\n",
    "            y_t[y_t == 0] = -1\n",
    "\n",
    "        #init weights\n",
    "        if self.w is None:\n",
    "            self.w = np.random.random((X_t.shape[1], y_t.shape[1]))\n",
    "        \n",
    "        # main loop\n",
    "        \n",
    "        for step in tqdm(range(self.steps)):\n",
    "            stop = True\n",
    "            for i in range(X_t.shape[0]):\n",
    "                # compute error of all perceptrons\n",
    "                predict = X_t[i].dot(self.w)\n",
    "                if np.sum(predict*y_t[i] < 0):\n",
    "                    stop = False\n",
    "                    e = y_t[i] - X_t[i].dot(self.w)\n",
    "                    e[predict*y_t[i] >= 0] = 0.0\n",
    "                    self.w += X_t[i].reshape(X_t.shape[1], 1).dot(e.reshape(1, y_t.shape[1]))\n",
    "            if stop and self.early_stop:\n",
    "                break\n",
    "                \n",
    "        return self\n",
    "    \n",
    "    def set_steps(self, steps):\n",
    "        self.steps = steps\n",
    "        \n",
    "    def set_early_stop(self, stop):\n",
    "        self.early_stop = stop\n",
    "    \n",
    "    # Predict answers\n",
    "    def predict(self, X):\n",
    "        X_t = np.append(X, np.ones((1, X.shape[1])), axis = 0).T\n",
    "        return X_t.dot(self.w).T\n",
    "    \n",
    "    def predict_classes(self, X):\n",
    "        X_t = np.append(X, np.ones((1, X.shape[1])), axis = 0).T\n",
    "        ans = X_t.dot(self.w)\n",
    "        a_t =  ans < 0\n",
    "        if self.negative_is_zero:\n",
    "            ans[a_t] = 0\n",
    "        else:\n",
    "            ans[a_t] = -1\n",
    "        ans[np.logical_not(a_t)] = 1\n",
    "        return ans.T\n",
    "    \n",
    "    def display(self):\n",
    "        ans = \" Input(n,\" + str(self.w.shape[0] - 1) + \")  -->  \"\n",
    "        ans += \"Rosenblat Perceptrons(\" + str(self.w.shape[1]) + \")  -->  \"\n",
    "        ans += \"Output(n, \" + str(self.w.shape[1]) + \")\"\n",
    "        return ans\n",
    "    \n",
    "    def weights(self):\n",
    "        return self.w[:-1]\n",
    "    \n",
    "    def bias(self):\n",
    "        return self.w[-1]\n",
    "        \n",
    "    \n",
    "    # MAE\n",
    "    def score(self, X, y):\n",
    "        X_t = np.append(X, np.ones((1, X.shape[1])), axis = 0).T\n",
    "        y_t = np.array(y.T)\n",
    "        y_t[y_t == 0] = -1\n",
    "        return np.abs(y_t - X_t.dot(self.w)).mean()"
   ]
  },
  {
   "cell_type": "markdown",
   "metadata": {},
   "source": [
    "### Решение"
   ]
  },
  {
   "cell_type": "markdown",
   "metadata": {},
   "source": [
    "***Задание №1***"
   ]
  },
  {
   "cell_type": "markdown",
   "metadata": {},
   "source": [
    "Данные:"
   ]
  },
  {
   "cell_type": "code",
   "execution_count": 3,
   "metadata": {},
   "outputs": [],
   "source": [
    "P = np.array([\n",
    "    [-4, -3.4, 0.7, 4.3, 2.3, 3.6],\n",
    "    [-3.6, 1.2, -4.5, 2.2, -4.4, 4.3]\n",
    "])\n",
    "\n",
    "T = np.array([[0, 1, 0, 0, 0, 1]])"
   ]
  },
  {
   "cell_type": "markdown",
   "metadata": {},
   "source": [
    "Инициализируем модель и посмотрим архитектуру:"
   ]
  },
  {
   "cell_type": "code",
   "execution_count": 4,
   "metadata": {},
   "outputs": [
    {
     "name": "stderr",
     "output_type": "stream",
     "text": [
      "0it [00:00, ?it/s]"
     ]
    },
    {
     "name": "stdout",
     "output_type": "stream",
     "text": [
      " Input(n,2)  -->  Rosenblat Perceptrons(1)  -->  Output(n, 1)\n"
     ]
    },
    {
     "name": "stderr",
     "output_type": "stream",
     "text": [
      "\n"
     ]
    }
   ],
   "source": [
    "model = RosenblattLayer(0).fit(P, T)\n",
    "print(model.display())"
   ]
  },
  {
   "cell_type": "markdown",
   "metadata": {},
   "source": [
    "Построение графика по весам модели:"
   ]
  },
  {
   "cell_type": "code",
   "execution_count": 5,
   "metadata": {},
   "outputs": [],
   "source": [
    "def plot_line(weights, bias):\n",
    "    x = list(np.arange(-5, 5, 0.01))\n",
    "    for i in range(bias.shape[0]):\n",
    "        w = weights[:, i].ravel()\n",
    "        b = bias[i]\n",
    "        y = list(map(lambda t: (-w[0]/w[1])*t - b/w[1], x))\n",
    "        plt.plot(x, y, label=\"Перцептрон №\" + str(i+1))"
   ]
  },
  {
   "cell_type": "code",
   "execution_count": 6,
   "metadata": {},
   "outputs": [
    {
     "data": {
      "text/plain": [
       "<matplotlib.legend.Legend at 0x1b6a6583c70>"
      ]
     },
     "execution_count": 6,
     "metadata": {},
     "output_type": "execute_result"
    },
    {
     "data": {
      "image/png": "[encoded data removed]",
      "text/plain": [
       "<Figure size 1080x576 with 1 Axes>"
      ]
     },
     "metadata": {
      "needs_background": "light"
     },
     "output_type": "display_data"
    }
   ],
   "source": [
    "plt.figure(figsize=(15, 8))\n",
    "plot_line(model.weights(), model.bias())\n",
    "plt.scatter(P.T[T.ravel() == 0].T[0], P.T[T.ravel() == 0].T[1], label=\"Класс 1\")\n",
    "plt.scatter(P.T[T.ravel() == 1].T[0], P.T[T.ravel() == 1].T[1], label=\"Класс 2\")\n",
    "plt.title(\"Разделение случайными значениями\")\n",
    "plt.xlabel(\"x1\")\n",
    "plt.ylabel(\"x2\")\n",
    "plt.grid()\n",
    "plt.legend()"
   ]
  },
  {
   "cell_type": "markdown",
   "metadata": {},
   "source": [
    "Обучим модель на 50 эпох:"
   ]
  },
  {
   "cell_type": "code",
   "execution_count": 7,
   "metadata": {},
   "outputs": [
    {
     "name": "stderr",
     "output_type": "stream",
     "text": [
      " 28%|██▊       | 14/50 [00:00<00:00, 636.33it/s]\n"
     ]
    },
    {
     "data": {
      "text/plain": [
       "<__main__.RosenblattLayer at 0x1b6a64f30a0>"
      ]
     },
     "execution_count": 7,
     "metadata": {},
     "output_type": "execute_result"
    }
   ],
   "source": [
    "model.set_steps(50)\n",
    "model.set_early_stop(True)\n",
    "model.fit(P, T)"
   ]
  },
  {
   "cell_type": "markdown",
   "metadata": {},
   "source": [
    "Результат обучения:"
   ]
  },
  {
   "cell_type": "code",
   "execution_count": 8,
   "metadata": {},
   "outputs": [
    {
     "data": {
      "text/plain": [
       "<matplotlib.legend.Legend at 0x1b6a6618b50>"
      ]
     },
     "execution_count": 8,
     "metadata": {},
     "output_type": "execute_result"
    },
    {
     "data": {
      "image/png": "[encoded data removed]",
      "text/plain": [
       "<Figure size 1080x576 with 1 Axes>"
      ]
     },
     "metadata": {
      "needs_background": "light"
     },
     "output_type": "display_data"
    }
   ],
   "source": [
    "plt.figure(figsize=(15, 8))\n",
    "plot_line(model.weights(), model.bias())\n",
    "plt.scatter(P.T[T.ravel() == 0].T[0], P.T[T.ravel() == 0].T[1], label=\"Класс 1\")\n",
    "plt.scatter(P.T[T.ravel() == 1].T[0], P.T[T.ravel() == 1].T[1], label=\"Класс 2\")\n",
    "x = np.random.randint(-5, 4, 3) + np.random.random(3)\n",
    "y = np.random.randint(-5, 4, 3) + np.random.random(3)\n",
    "plt.scatter(x, y, color=\"red\", label=\"3 случайные точки\")\n",
    "plt.xlabel(\"x1\")\n",
    "plt.ylabel(\"x2\")\n",
    "\n",
    "plt.title(\"Разделение выборки обученным перцептроном\")\n",
    "plt.grid()\n",
    "plt.legend()"
   ]
  },
  {
   "cell_type": "code",
   "execution_count": 9,
   "metadata": {},
   "outputs": [
    {
     "name": "stdout",
     "output_type": "stream",
     "text": [
      "Test Data:\n",
      "[[-0.92833974 -3.79022874  2.66960153]\n",
      " [-3.67138285 -4.80837051  2.81960205]]\n",
      "Predict:\n",
      "[[0. 0. 1.]]\n"
     ]
    }
   ],
   "source": [
    "test = np.append(x.reshape(1, 3), y.reshape(1, 3), axis=0)\n",
    "print(\"Test Data:\")\n",
    "print(test)\n",
    "print(\"Predict:\")\n",
    "print(model.predict_classes(test))"
   ]
  },
  {
   "cell_type": "markdown",
   "metadata": {},
   "source": [
    "*Выход* модели на тренировочных данных:"
   ]
  },
  {
   "cell_type": "code",
   "execution_count": 10,
   "metadata": {},
   "outputs": [
    {
     "data": {
      "text/plain": [
       "array([[-2.50741432e+17,  3.25612092e+18, -3.61097464e+18,\n",
       "        -2.67397277e+17, -4.42945386e+18,  1.80739431e+18]])"
      ]
     },
     "execution_count": 10,
     "metadata": {},
     "output_type": "execute_result"
    }
   ],
   "source": [
    "model.predict(P) ## result of net func"
   ]
  },
  {
   "cell_type": "markdown",
   "metadata": {},
   "source": [
    "Полученные классы:"
   ]
  },
  {
   "cell_type": "code",
   "execution_count": 11,
   "metadata": {},
   "outputs": [
    {
     "data": {
      "text/plain": [
       "array([[0., 1., 0., 0., 0., 1.]])"
      ]
     },
     "execution_count": 11,
     "metadata": {},
     "output_type": "execute_result"
    }
   ],
   "source": [
    "model.predict_classes(P)"
   ]
  },
  {
   "cell_type": "markdown",
   "metadata": {},
   "source": [
    "$MAE = \\displaystyle\\frac{\\sum\\limits_{i = 1}^{N}|t_i - a_i|}{N}$"
   ]
  },
  {
   "cell_type": "code",
   "execution_count": 12,
   "metadata": {},
   "outputs": [
    {
     "data": {
      "text/plain": [
       "2.2703470722926236e+18"
      ]
     },
     "execution_count": 12,
     "metadata": {},
     "output_type": "execute_result"
    }
   ],
   "source": [
    "model.score(P, T)"
   ]
  },
  {
   "cell_type": "markdown",
   "metadata": {},
   "source": [
    "Коэффиценты и смещения:"
   ]
  },
  {
   "cell_type": "code",
   "execution_count": 13,
   "metadata": {},
   "outputs": [
    {
     "name": "stdout",
     "output_type": "stream",
     "text": [
      "Веса:\n",
      "[[-5.61599277e+17]\n",
      " [ 8.00796233e+17]]\n",
      "Смещения:\n",
      "[3.857279e+17]\n"
     ]
    }
   ],
   "source": [
    "print(\"Веса:\")\n",
    "print(model.weights())\n",
    "print(\"Смещения:\")\n",
    "print(model.bias())"
   ]
  },
  {
   "cell_type": "markdown",
   "metadata": {},
   "source": [
    "***Задание №2***"
   ]
  },
  {
   "cell_type": "markdown",
   "metadata": {},
   "source": [
    "Сделаем выборку неразделимой:"
   ]
  },
  {
   "cell_type": "code",
   "execution_count": 14,
   "metadata": {},
   "outputs": [],
   "source": [
    "P = np.append(P, np.array([[0], [-4]]), axis=1)\n",
    "T = np.append(T, np.array([[1]]), axis=1)"
   ]
  },
  {
   "cell_type": "markdown",
   "metadata": {},
   "source": [
    "Как видим обучение прошло все шаги:"
   ]
  },
  {
   "cell_type": "code",
   "execution_count": 15,
   "metadata": {},
   "outputs": [
    {
     "name": "stderr",
     "output_type": "stream",
     "text": [
      "100%|██████████| 50/50 [00:00<00:00, 877.30it/s]\n"
     ]
    },
    {
     "data": {
      "text/plain": [
       "<__main__.RosenblattLayer at 0x1b6a6662250>"
      ]
     },
     "execution_count": 15,
     "metadata": {},
     "output_type": "execute_result"
    }
   ],
   "source": [
    "model = RosenblattLayer(50, True)\n",
    "model.fit(P, T)"
   ]
  },
  {
   "cell_type": "markdown",
   "metadata": {},
   "source": [
    "Резултат обучения:"
   ]
  },
  {
   "cell_type": "code",
   "execution_count": 16,
   "metadata": {},
   "outputs": [
    {
     "data": {
      "text/plain": [
       "<matplotlib.legend.Legend at 0x1b6a68464f0>"
      ]
     },
     "execution_count": 16,
     "metadata": {},
     "output_type": "execute_result"
    },
    {
     "data": {
      "image/png": "[encoded data removed]",
      "text/plain": [
       "<Figure size 1080x576 with 1 Axes>"
      ]
     },
     "metadata": {
      "needs_background": "light"
     },
     "output_type": "display_data"
    }
   ],
   "source": [
    "plt.figure(figsize=(15, 8))\n",
    "plot_line(model.weights(), model.bias())\n",
    "plt.scatter(P.T[T.ravel() == 0].T[0], P.T[T.ravel() == 0].T[1], label=\"Класс 1\")\n",
    "plt.scatter(P.T[T.ravel() == 1].T[0], P.T[T.ravel() == 1].T[1], label=\"Класс 2\")\n",
    "plt.xlabel(\"x1\")\n",
    "plt.ylabel(\"x2\")\n",
    "\n",
    "plt.title(\"Разделение неразделимой выборки одним перцептроном\")\n",
    "plt.grid()\n",
    "plt.legend()"
   ]
  },
  {
   "cell_type": "markdown",
   "metadata": {},
   "source": [
    "Как видим, модель допускает ошибки:"
   ]
  },
  {
   "cell_type": "code",
   "execution_count": 17,
   "metadata": {},
   "outputs": [
    {
     "data": {
      "text/plain": [
       "array([[False, False, False,  True, False, False,  True]])"
      ]
     },
     "execution_count": 17,
     "metadata": {},
     "output_type": "execute_result"
    }
   ],
   "source": [
    "model.predict_classes(P) == T # only 2 true"
   ]
  },
  {
   "cell_type": "markdown",
   "metadata": {},
   "source": [
    "***Задание №3***"
   ]
  },
  {
   "cell_type": "markdown",
   "metadata": {},
   "source": [
    "Данные:"
   ]
  },
  {
   "cell_type": "code",
   "execution_count": 18,
   "metadata": {},
   "outputs": [],
   "source": [
    "P = np.array([\n",
    "    [4.3, -2.5, 0.9, 1.1, 0.3, -0.5, 4.6, 1.9],\n",
    "    [-3.1, 3.9, 0.0, 3.1, -3, -0.8, 1.2, 2.2]\n",
    "])\n",
    "\n",
    "T = np.array([\n",
    "    [0, 1, 0, 0, 1, 1, 0, 0],\n",
    "    [0, 1, 1, 1, 0, 1, 0, 1]\n",
    "])"
   ]
  },
  {
   "cell_type": "markdown",
   "metadata": {},
   "source": [
    "Модель и ее структура:"
   ]
  },
  {
   "cell_type": "code",
   "execution_count": 19,
   "metadata": {},
   "outputs": [
    {
     "name": "stderr",
     "output_type": "stream",
     "text": [
      "0it [00:00, ?it/s]"
     ]
    },
    {
     "name": "stdout",
     "output_type": "stream",
     "text": [
      " Input(n,2)  -->  Rosenblat Perceptrons(2)  -->  Output(n, 2)\n"
     ]
    },
    {
     "name": "stderr",
     "output_type": "stream",
     "text": [
      "\n"
     ]
    }
   ],
   "source": [
    "model = RosenblattLayer(0).fit(P, T)\n",
    "print(model.display())"
   ]
  },
  {
   "cell_type": "code",
   "execution_count": 20,
   "metadata": {},
   "outputs": [
    {
     "name": "stderr",
     "output_type": "stream",
     "text": [
      " 64%|██████▍   | 32/50 [00:00<00:00, 969.73it/s]\n"
     ]
    },
    {
     "data": {
      "text/plain": [
       "<__main__.RosenblattLayer at 0x1b6a6cef160>"
      ]
     },
     "execution_count": 20,
     "metadata": {},
     "output_type": "execute_result"
    }
   ],
   "source": [
    "model.set_steps(50)\n",
    "model.set_early_stop(True)\n",
    "model.fit(P, T)"
   ]
  },
  {
   "cell_type": "markdown",
   "metadata": {},
   "source": [
    "Посмотрим на разделение:"
   ]
  },
  {
   "cell_type": "code",
   "execution_count": 24,
   "metadata": {},
   "outputs": [
    {
     "data": {
      "text/plain": [
       "<matplotlib.legend.Legend at 0x1b6a6ad8dc0>"
      ]
     },
     "execution_count": 24,
     "metadata": {},
     "output_type": "execute_result"
    },
    {
     "data": {
      "image/png": "[encoded data removed]",
      "text/plain": [
       "<Figure size 1080x576 with 1 Axes>"
      ]
     },
     "metadata": {
      "needs_background": "light"
     },
     "output_type": "display_data"
    }
   ],
   "source": [
    "plt.figure(figsize=(15, 8))\n",
    "plot_line(model.weights(), model.bias())\n",
    "plt.scatter(\n",
    "    P.T[(T[0] == 0) & (T[1] == 0)].T[0], \n",
    "    P.T[(T[0] == 0) & (T[1] == 0)].T[1], \n",
    "    label=\"Класс 1\"\n",
    ")\n",
    "plt.scatter(\n",
    "    P.T[(T[0] == 0) & (T[1] == 1)].T[0], \n",
    "    P.T[(T[0] == 0) & (T[1] == 1)].T[1], \n",
    "    label=\"Класс 2\"\n",
    ")\n",
    "plt.scatter(\n",
    "    P.T[(T[0] == 1) & (T[1] == 0)].T[0], \n",
    "    P.T[(T[0] == 1) & (T[1] == 0)].T[1], \n",
    "    label=\"Класс 3\"\n",
    ")\n",
    "plt.scatter(\n",
    "    P.T[(T[0] == 1) & (T[1] == 1)].T[0], \n",
    "    P.T[(T[0] == 1) & (T[1] == 1)].T[1], \n",
    "    label=\"Класс 4\"\n",
    ")\n",
    "\n",
    "x = np.random.randint(-5, 4, 5) + np.random.random(5)\n",
    "y = np.random.randint(-5, 4, 5) + np.random.random(5)\n",
    "\n",
    "plt.xlabel(\"x1\")\n",
    "plt.ylabel(\"x2\")\n",
    "plt.scatter(x, y, color=\"yellow\", label=\"5 случайных точек\")\n",
    "\n",
    "plt.title(\"Разделение 2-мя обученными перцептронами\")\n",
    "plt.grid()\n",
    "plt.legend()"
   ]
  },
  {
   "cell_type": "code",
   "execution_count": 25,
   "metadata": {},
   "outputs": [
    {
     "name": "stdout",
     "output_type": "stream",
     "text": [
      "Test Data:\n",
      "[[ 2.36157158 -0.21445527  2.16308685 -3.76968201 -3.12936967]\n",
      " [ 0.67143017 -2.52585631 -1.69547838 -2.47452884  0.19778045]]\n",
      "Predict:\n",
      "[[0. 1. 0. 1. 1.]\n",
      " [1. 0. 0. 1. 1.]]\n"
     ]
    }
   ],
   "source": [
    "test = np.append(x.reshape(1, 5), y.reshape(1, 5), axis=0)\n",
    "print(\"Test Data:\")\n",
    "print(test)\n",
    "print(\"Predict:\")\n",
    "print(model.predict_classes(test))"
   ]
  },
  {
   "cell_type": "code",
   "execution_count": 26,
   "metadata": {},
   "outputs": [
    {
     "name": "stdout",
     "output_type": "stream",
     "text": [
      "Веса:\n",
      "[[-1.70146535e+37 -8.52978957e+04]\n",
      " [-7.90898753e+36  1.66812729e+05]]\n",
      "Смещения:\n",
      "[-6.97992809e+36  1.87414081e+05]\n"
     ]
    }
   ],
   "source": [
    "print(\"Веса:\")\n",
    "print(model.weights())\n",
    "print(\"Смещения:\")\n",
    "print(model.bias())"
   ]
  },
  {
   "cell_type": "markdown",
   "metadata": {},
   "source": [
    "<center><h5> Выполнил Бронников Максим </h5></center>\n",
    "<center><h5> 14.09.2020 </h5></center>"
   ]
  }
 ],
 "metadata": {
  "kernelspec": {
   "display_name": "Python 3",
   "language": "python",
   "name": "python3"
  },
  "language_info": {
   "codemirror_mode": {
    "name": "ipython",
    "version": 3
   },
   "file_extension": ".py",
   "mimetype": "text/x-python",
   "name": "python",
   "nbconvert_exporter": "python",
   "pygments_lexer": "ipython3",
   "version": "3.8.3"
  }
 },
 "nbformat": 4,
 "nbformat_minor": 1
}
